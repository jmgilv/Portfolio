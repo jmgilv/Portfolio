{
 "cells": [
  {
   "cell_type": "code",
   "execution_count": 1,
   "id": "903dc830",
   "metadata": {},
   "outputs": [],
   "source": [
    "#!pip freeze > requirements.txt"
   ]
  },
  {
   "cell_type": "code",
   "execution_count": 2,
   "id": "e06fb586",
   "metadata": {},
   "outputs": [],
   "source": [
    "import pandas as pd\n",
    "import polars as pl\n",
    "import time\n",
    "import numpy as np\n",
    "import yfinance as yf"
   ]
  },
  {
   "cell_type": "code",
   "execution_count": 3,
   "id": "79e8898f",
   "metadata": {},
   "outputs": [],
   "source": [
    "#!pip install yfinance"
   ]
  },
  {
   "cell_type": "code",
   "execution_count": 4,
   "id": "2476dc16",
   "metadata": {},
   "outputs": [],
   "source": [
    "TICKERS   = [\"AAPL\", \"MSFT\", \"AMZN\", \"GOOGL\", \"META\", \"NVDA\", \"TSLA\", \"NFLX\"]\n",
    "PERIOD    = \"5y\"        # 5 años de datos diarios\n",
    "INTERVAL  = \"1d\"\n",
    "REPEATS   = 3           # veces para cada test (escoge el mejor tiempo)"
   ]
  },
  {
   "cell_type": "code",
   "execution_count": 5,
   "id": "c7969691",
   "metadata": {},
   "outputs": [
    {
     "name": "stdout",
     "output_type": "stream",
     "text": [
      "Descargando datos de Yahoo…\n"
     ]
    }
   ],
   "source": [
    "print(\"Descargando datos de Yahoo…\")\n",
    "raw = yf.download(\n",
    "    tickers=\" \".join(TICKERS),\n",
    "    period=PERIOD,\n",
    "    interval=INTERVAL,\n",
    "    group_by=\"ticker\",\n",
    "    auto_adjust=False,\n",
    "    threads=True,\n",
    "    progress=False,\n",
    ")"
   ]
  },
  {
   "cell_type": "code",
   "execution_count": 6,
   "id": "1450159d",
   "metadata": {},
   "outputs": [
    {
     "name": "stdout",
     "output_type": "stream",
     "text": [
      "Filas totales: 10040\n"
     ]
    },
    {
     "name": "stderr",
     "output_type": "stream",
     "text": [
      "/var/folders/x0/f6vcl8k17gj45h5ytt4dpbp40000gp/T/ipykernel_64729/4290107417.py:2: FutureWarning: The previous implementation of stack is deprecated and will be removed in a future version of pandas. See the What's New notes for pandas 2.1.0 for details. Specify future_stack=True to adopt the new implementation and silence this warning.\n",
      "  raw.stack(level=0)\n"
     ]
    }
   ],
   "source": [
    "pdf = (\n",
    "    raw.stack(level=0)\n",
    "       .rename_axis(['Date', 'Ticker'])\n",
    "       .reset_index()\n",
    "       .rename(columns={\"Adj Close\": \"Adj_Close\"})\n",
    ")\n",
    "\n",
    "print(\"Filas totales:\", len(pdf))"
   ]
  },
  {
   "cell_type": "code",
   "execution_count": 16,
   "id": "5583f81c",
   "metadata": {},
   "outputs": [],
   "source": [
    "def resample_pandas(df: pd.DataFrame) -> pd.DataFrame:\n",
    "    return (\n",
    "        df.set_index(\"Date\")\n",
    "          .groupby(\"Ticker\")\n",
    "          .resample(\"M\")\n",
    "          .agg({\"Open\":\"first\",\n",
    "                \"High\":\"max\",\n",
    "                \"Low\":\"min\",\n",
    "                \"Close\":\"last\",\n",
    "                \"Volume\":\"sum\"})\n",
    "          .dropna()\n",
    "          .reset_index()\n",
    "    )\n",
    "\n",
    "def resample_polars(df_pl: pl.DataFrame) -> pl.DataFrame:\n",
    "    df_pl = df_pl.with_columns(\n",
    "        pl.col(\"Date\").cast(pl.Datetime).dt.cast_time_unit(\"ns\")\n",
    "    )\n",
    "\n",
    "    return (\n",
    "        df_pl\n",
    "        .group_by_dynamic(\n",
    "            index_column=\"Date\",\n",
    "            every=\"1mo\",\n",
    "            by=[\"Ticker\"],\n",
    "            closed=\"left\"\n",
    "        )\n",
    "        .agg([\n",
    "            pl.col(\"Open\").first(),\n",
    "            pl.col(\"High\").max(),\n",
    "            pl.col(\"Low\").min(),\n",
    "            pl.col(\"Close\").last(),\n",
    "            pl.col(\"Volume\").sum()\n",
    "        ])\n",
    "    )"
   ]
  },
  {
   "cell_type": "code",
   "execution_count": 17,
   "id": "e346a6c7",
   "metadata": {},
   "outputs": [
    {
     "name": "stderr",
     "output_type": "stream",
     "text": [
      "/var/folders/x0/f6vcl8k17gj45h5ytt4dpbp40000gp/T/ipykernel_64729/3867766915.py:5: FutureWarning: 'M' is deprecated and will be removed in a future version, please use 'ME' instead.\n",
      "  .resample(\"M\")\n"
     ]
    },
    {
     "name": "stdout",
     "output_type": "stream",
     "text": [
      "\n",
      "--- RESULTADOS ---\n",
      "Pandas  :    29.9 ms\n",
      "Polars  :     1.3 ms\n",
      "Speed-up:   22.35 ×\n"
     ]
    },
    {
     "name": "stderr",
     "output_type": "stream",
     "text": [
      "/var/folders/x0/f6vcl8k17gj45h5ytt4dpbp40000gp/T/ipykernel_64729/3867766915.py:5: FutureWarning: 'M' is deprecated and will be removed in a future version, please use 'ME' instead.\n",
      "  .resample(\"M\")\n",
      "/var/folders/x0/f6vcl8k17gj45h5ytt4dpbp40000gp/T/ipykernel_64729/3867766915.py:5: FutureWarning: 'M' is deprecated and will be removed in a future version, please use 'ME' instead.\n",
      "  .resample(\"M\")\n",
      "/var/folders/x0/f6vcl8k17gj45h5ytt4dpbp40000gp/T/ipykernel_64729/3867766915.py:21: DeprecationWarning: the argument `by` for `DataFrame.group_by_dynamic` is deprecated. It was renamed to `group_by` in version 0.20.14.\n",
      "  df_pl\n"
     ]
    }
   ],
   "source": [
    "def best_time(fn, *args, repeats=REPEATS, **kw):\n",
    "    times = []\n",
    "    for _ in range(repeats):\n",
    "        t0 = time.perf_counter()\n",
    "        _ = fn(*args, **kw)\n",
    "        times.append(time.perf_counter() - t0)\n",
    "    return min(times)\n",
    "\n",
    "t_pandas = best_time(resample_pandas, pdf)\n",
    "t_polars = best_time(resample_polars, pl.from_pandas(pdf))\n",
    "\n",
    "print(\"\\n--- RESULTADOS ---\")\n",
    "print(f\"Pandas  : {t_pandas*1000:7.1f} ms\")\n",
    "print(f\"Polars  : {t_polars*1000:7.1f} ms\")\n",
    "print(f\"Speed-up: {t_pandas / t_polars:7.2f} ×\")"
   ]
  },
  {
   "cell_type": "code",
   "execution_count": null,
   "id": "90216fda",
   "metadata": {},
   "outputs": [],
   "source": []
  },
  {
   "cell_type": "code",
   "execution_count": null,
   "id": "67ec6118",
   "metadata": {},
   "outputs": [],
   "source": []
  }
 ],
 "metadata": {
  "kernelspec": {
   "display_name": ".venv (3.12.8)",
   "language": "python",
   "name": "python3"
  },
  "language_info": {
   "codemirror_mode": {
    "name": "ipython",
    "version": 3
   },
   "file_extension": ".py",
   "mimetype": "text/x-python",
   "name": "python",
   "nbconvert_exporter": "python",
   "pygments_lexer": "ipython3",
   "version": "3.10.11"
  }
 },
 "nbformat": 4,
 "nbformat_minor": 5
}
